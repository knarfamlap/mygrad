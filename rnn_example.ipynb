{
 "cells": [
  {
   "cell_type": "code",
   "execution_count": 2,
   "id": "coordinate-daniel",
   "metadata": {},
   "outputs": [],
   "source": [
    "import random\n",
    "import numpy as np\n",
    "from mygrad.engine import Variable\n",
    "from mygrad"
   ]
  },
  {
   "cell_type": "code",
   "execution_count": 2,
   "id": "unsigned-lotus",
   "metadata": {},
   "outputs": [],
   "source": [
    "from core import Value\n",
    "from nn import Neuron, Layer, RNN"
   ]
  },
  {
   "cell_type": "code",
   "execution_count": 3,
   "id": "empty-credits",
   "metadata": {},
   "outputs": [],
   "source": [
    "np.random.seed(1337)\n",
    "random.seed(1337)"
   ]
  },
  {
   "cell_type": "code",
   "execution_count": 5,
   "id": "ruled-needle",
   "metadata": {},
   "outputs": [],
   "source": [
    "vocab = list(set([w for text in train_data.keys() for w in text.split()]))\n",
    "vocab_size = len(vocab)"
   ]
  },
  {
   "cell_type": "code",
   "execution_count": 6,
   "id": "corrected-unemployment",
   "metadata": {},
   "outputs": [],
   "source": [
    "word_to_idx = {w: i for i, w in enumerate(vocab)}\n",
    "idx_to_word = {i:w for i, w in enumerate(vocab)}"
   ]
  },
  {
   "cell_type": "code",
   "execution_count": 7,
   "id": "reverse-billy",
   "metadata": {},
   "outputs": [
    {
     "data": {
      "text/plain": [
       "17"
      ]
     },
     "execution_count": 7,
     "metadata": {},
     "output_type": "execute_result"
    }
   ],
   "source": [
    "word_to_idx['good']"
   ]
  },
  {
   "cell_type": "code",
   "execution_count": 8,
   "id": "complex-infection",
   "metadata": {},
   "outputs": [
    {
     "data": {
      "text/plain": [
       "'good'"
      ]
     },
     "execution_count": 8,
     "metadata": {},
     "output_type": "execute_result"
    }
   ],
   "source": [
    "idx_to_word[word_to_idx['good']]"
   ]
  },
  {
   "cell_type": "code",
   "execution_count": 9,
   "id": "national-bicycle",
   "metadata": {},
   "outputs": [],
   "source": [
    "def createInputs(text):\n",
    "    inputs = []\n",
    "    for w in text.split(' '):\n",
    "        v = np.zeros((1, vocab_size))\n",
    "        v[0][word_to_idx[w]] = 1\n",
    "        inputs.append(v)\n",
    "        \n",
    "    return inputs"
   ]
  },
  {
   "cell_type": "code",
   "execution_count": 10,
   "id": "hundred-chain",
   "metadata": {},
   "outputs": [],
   "source": [
    "def softmax(x):\n",
    "    return np.exp(x) / sum(np.exp(x))"
   ]
  },
  {
   "cell_type": "code",
   "execution_count": 23,
   "id": "creative-tower",
   "metadata": {},
   "outputs": [],
   "source": [
    "inputs = createInputs('good')"
   ]
  },
  {
   "cell_type": "code",
   "execution_count": 20,
   "id": "sufficient-workshop",
   "metadata": {},
   "outputs": [],
   "source": [
    "rnn = RNN(vocab_size, 2, 64)"
   ]
  },
  {
   "cell_type": "code",
   "execution_count": 21,
   "id": "single-shadow",
   "metadata": {},
   "outputs": [
    {
     "data": {
      "text/plain": [
       "5478"
      ]
     },
     "execution_count": 21,
     "metadata": {},
     "output_type": "execute_result"
    }
   ],
   "source": [
    "len(rnn.parameters())"
   ]
  },
  {
   "cell_type": "code",
   "execution_count": 22,
   "id": "lovely-firewall",
   "metadata": {},
   "outputs": [],
   "source": [
    "hidden = rnn.initHidden()"
   ]
  },
  {
   "cell_type": "code",
   "execution_count": 38,
   "id": "blank-cleaners",
   "metadata": {},
   "outputs": [],
   "source": [
    "output, hidden = rnn(inputs[0], hidden[0])"
   ]
  },
  {
   "cell_type": "code",
   "execution_count": null,
   "id": "double-procurement",
   "metadata": {},
   "outputs": [],
   "source": []
  }
 ],
 "metadata": {
  "kernelspec": {
   "display_name": "Python 3",
   "language": "python",
   "name": "python3"
  },
  "language_info": {
   "codemirror_mode": {
    "name": "ipython",
    "version": 3
   },
   "file_extension": ".py",
   "mimetype": "text/x-python",
   "name": "python",
   "nbconvert_exporter": "python",
   "pygments_lexer": "ipython3",
   "version": "3.7.3-final"
  }
 },
 "nbformat": 4,
 "nbformat_minor": 5
}