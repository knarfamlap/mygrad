{
 "cells": [
  {
   "cell_type": "code",
   "execution_count": 2,
   "id": "coordinate-daniel",
   "metadata": {},
   "outputs": [],
   "source": [
    "import random\n",
    "import numpy as np\n",
    "from mygrad.nn import RNN\n",
    "\n",
    "from data.rnn_data import train_data, test_data"
   ]
  },
  {
   "cell_type": "code",
   "execution_count": 3,
   "id": "empty-credits",
   "metadata": {},
   "outputs": [],
   "source": [
    "np.random.seed(1337)\n",
    "random.seed(1337)"
   ]
  },
  {
   "cell_type": "markdown",
   "id": "coordinated-biodiversity",
   "metadata": {},
   "source": [
    "## Data Preparation"
   ]
  },
  {
   "cell_type": "code",
   "execution_count": 19,
   "id": "jewish-swaziland",
   "metadata": {},
   "outputs": [
    {
     "data": {
      "text/plain": [
       "[('good', True),\n",
       " ('bad', False),\n",
       " ('happy', True),\n",
       " ('sad', False),\n",
       " ('not good', False),\n",
       " ('not bad', True),\n",
       " ('not happy', False),\n",
       " ('not sad', True),\n",
       " ('very good', True),\n",
       " ('very bad', False)]"
      ]
     },
     "execution_count": 19,
     "metadata": {},
     "output_type": "execute_result"
    }
   ],
   "source": [
    "# Check what the text data looks like \n",
    "# for the first 10 items\n",
    "list(train_data.items())[:10]"
   ]
  },
  {
   "cell_type": "code",
   "execution_count": null,
   "id": "empirical-engine",
   "metadata": {},
   "outputs": [],
   "source": [
    "# binary categories\n",
    "all_categories = [0, 1]"
   ]
  },
  {
   "cell_type": "code",
   "execution_count": 5,
   "id": "ruled-needle",
   "metadata": {},
   "outputs": [],
   "source": [
    "# get the vocabulary from training data\n",
    "vocab = list(set([w for text in train_data.keys() for w in text.split()]))\n",
    "vocab_size = len(vocab)"
   ]
  },
  {
   "cell_type": "code",
   "execution_count": 6,
   "id": "corrected-unemployment",
   "metadata": {},
   "outputs": [],
   "source": [
    "# dict maps words to idx\n",
    "word_to_idx = {w: i for i, w in enumerate(vocab)}\n",
    "# dict maps idx to words\n",
    "idx_to_word = {i : w for i, w in enumerate(vocab)}"
   ]
  },
  {
   "cell_type": "code",
   "execution_count": 9,
   "id": "national-bicycle",
   "metadata": {},
   "outputs": [],
   "source": [
    "# create one-hot vector that represent a word in\n",
    "# the vocabulary\n",
    "def createInputs(text):\n",
    "    inputs = []\n",
    "    for w in text.split(' '):\n",
    "        v = np.zeros((1, vocab_size))\n",
    "        v[0][word_to_idx[w]] = 1\n",
    "        inputs.append(v)\n",
    "        \n",
    "    return inputs"
   ]
  },
  {
   "cell_type": "code",
   "execution_count": 22,
   "id": "creative-tower",
   "metadata": {},
   "outputs": [],
   "source": [
    "# We can see what the vector for the word \"good\" looks like\n",
    "sample = createInputs('good')"
   ]
  },
  {
   "cell_type": "code",
   "execution_count": 23,
   "id": "interesting-plain",
   "metadata": {},
   "outputs": [
    {
     "data": {
      "text/plain": [
       "[array([[1., 0., 0., 0., 0., 0., 0., 0., 0., 0., 0., 0., 0., 0., 0., 0.,\n",
       "         0., 0.]])]"
      ]
     },
     "execution_count": 23,
     "metadata": {},
     "output_type": "execute_result"
    }
   ],
   "source": [
    "sample"
   ]
  },
  {
   "cell_type": "markdown",
   "id": "arctic-bidding",
   "metadata": {},
   "source": [
    "## Getting RNN Ready"
   ]
  },
  {
   "cell_type": "code",
   "execution_count": 24,
   "id": "answering-nutrition",
   "metadata": {},
   "outputs": [],
   "source": [
    "def randomChoice(l):\n",
    "    return l[random.randint(0, len(l) - 1)] "
   ]
  },
  {
   "cell_type": "code",
   "execution_count": null,
   "id": "preceding-romantic",
   "metadata": {},
   "outputs": [],
   "source": [
    "def randomTrainingExample():\n",
    "    category = randomChoice()"
   ]
  },
  {
   "cell_type": "code",
   "execution_count": 13,
   "id": "rental-privilege",
   "metadata": {},
   "outputs": [],
   "source": [
    "input_sz = vocab_size # size of the input vector\n",
    "hidden_sz = 64 # size of the hidden state\n",
    "output_sz = 2 # size of rnn output"
   ]
  },
  {
   "cell_type": "code",
   "execution_count": 14,
   "id": "sufficient-workshop",
   "metadata": {},
   "outputs": [],
   "source": [
    "# init the RNN with input_sz of vocab\n",
    "rnn = RNN(input_sz, hidden_sz, output_sz)"
   ]
  },
  {
   "cell_type": "code",
   "execution_count": 15,
   "id": "single-shadow",
   "metadata": {},
   "outputs": [
    {
     "data": {
      "text/plain": [
       "5478"
      ]
     },
     "execution_count": 15,
     "metadata": {},
     "output_type": "execute_result"
    }
   ],
   "source": [
    "# check the number of parameters\n",
    "len(rnn.parameters())"
   ]
  },
  {
   "cell_type": "code",
   "execution_count": 20,
   "id": "lovely-firewall",
   "metadata": {},
   "outputs": [],
   "source": [
    "# init the hidden state\n",
    "hidden = rnn.initHidden()"
   ]
  }
 ],
 "metadata": {
  "kernelspec": {
   "display_name": "Python 3",
   "language": "python",
   "name": "python3"
  },
  "language_info": {
   "codemirror_mode": {
    "name": "ipython",
    "version": 3
   },
   "file_extension": ".py",
   "mimetype": "text/x-python",
   "name": "python",
   "nbconvert_exporter": "python",
   "pygments_lexer": "ipython3",
   "version": "3.7.3"
  }
 },
 "nbformat": 4,
 "nbformat_minor": 5
}
